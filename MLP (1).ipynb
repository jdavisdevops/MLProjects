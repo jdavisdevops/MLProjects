{
 "cells": [
  {
   "cell_type": "markdown",
   "metadata": {},
   "source": [
    "<h2>About this Project</h2>\n",
    "\n",
    "<p>In this project, you will implement a simple multilayer perceptron for a regression problem.</p>\n",
    "\n",
    "<h3>Evaluation</h3>\n",
    "\n",
    "<p><strong>This project must be successfully completed and submitted in order to receive credit for this course. Your score on this project will be included in your final grade calculation.</strong><p>\n",
    "    \n",
    "<p>You are expected to write code where you see <em># YOUR CODE HERE</em> within the cells of this notebook. Not all cells will be graded; code input cells followed by cells marked with <em>#Autograder test cell</em> will be graded. Upon submitting your work, the code you write at these designated positions will be assessed using an \"autograder\" that will run all test cells to assess your code. You will receive feedback from the autograder that will identify any errors in your code. Use this feedback to improve your code if you need to resubmit. Be sure not to change the names of any provided functions, classes, or variables within the existing code cells, as this will interfere with the autograder. Also, remember to execute all code cells sequentially, not just those you’ve edited, to ensure your code runs properly.</p>\n",
    "    \n",
    "<p>You can resubmit your work as many times as necessary before the submission deadline. If you experience difficulty or have questions about this exercise, use the Q&A discussion board to engage with your peers or seek assistance from the instructor.<p>\n",
    "\n",
    "<p>Before starting your work, please review <a href=\"https://s3.amazonaws.com/ecornell/global/eCornellPlagiarismPolicy.pdf\">eCornell's policy regarding plagiarism</a> (the presentation of someone else's work as your own without source credit).</p>\n",
    "\n",
    "<h3>Submit Code for Autograder Feedback</h3>\n",
    "\n",
    "<p>Once you have completed your work on this notebook, you will submit your code for autograder review. Follow these steps:</p>\n",
    "\n",
    "<ol>\n",
    "  <li><strong>Save your notebook.</strong></li>\n",
    "  <li><strong>Mark as Completed —</strong> In the blue menu bar along the top of this code exercise window, you’ll see a menu item called <strong>Education</strong>. In the <strong>Education</strong> menu, click <strong>Mark as Completed</strong> to submit your code for autograder/instructor review. This process will take a moment and a progress bar will show you the status of your submission.</li>\n",
    "\t<li><strong>Review your results —</strong> Once your work is marked as complete, the results of the autograder will automatically be presented in a new tab within the code exercise window. You can click on the assessment name in this feedback window to see more details regarding specific feedback/errors in your code submission.</li>\n",
    "  <li><strong>Repeat, if necessary —</strong> The Jupyter notebook will always remain accessible in the first tabbed window of the exercise. To reattempt the work, you will first need to click <strong>Mark as Uncompleted</strong> in the <strong>Education</strong> menu and then proceed to make edits to the notebook. Once you are ready to resubmit, follow steps one through three. You can repeat this procedure as many times as necessary.</li>\n",
    "    \n",
    "<p>You can also download a copy of this notebook in multiple formats using the <strong>Download as</strong> option in the <strong>File</strong> menu above.</p>"
   ]
  },
  {
   "cell_type": "markdown",
   "metadata": {},
   "source": [
    "<h2>Getting Started</h2>\n",
    "<h3>Python Initialization</h3> \n",
    "\n",
    "Please run the following code to initialize your Python kernel. You should be running a version of Python 3.x. </p>"
   ]
  },
  {
   "cell_type": "code",
   "execution_count": 1,
   "metadata": {
    "nbgrader": {
     "checksum": "379e6ea989630ddeab089a9c219ae4ff",
     "grade": false,
     "grade_id": "cell-3fe0f85f2526afff",
     "locked": true,
     "schema_version": 1,
     "solution": false
    }
   },
   "outputs": [],
   "source": [
    "%load_ext autoreload"
   ]
  },
  {
   "cell_type": "code",
   "execution_count": 2,
   "metadata": {
    "nbgrader": {
     "checksum": "2d552535476e572d57ac22c0a8c0840d",
     "grade": false,
     "grade_id": "cell-05ec67dd9c38e8fd",
     "locked": true,
     "schema_version": 1,
     "solution": false
    }
   },
   "outputs": [
    {
     "name": "stdout",
     "output_type": "stream",
     "text": [
      "You're running python 3.6.8\n"
     ]
    }
   ],
   "source": [
    "%autoreload 2\n",
    "import numpy as np\n",
    "from numpy.matlib import repmat\n",
    "import sys\n",
    "import matplotlib.pyplot as plt\n",
    "from scipy.io import loadmat\n",
    "import time\n",
    "\n",
    "from helper import *\n",
    "\n",
    "%matplotlib notebook\n",
    "print('You\\'re running python %s' % sys.version.split(' ')[0])"
   ]
  },
  {
   "cell_type": "markdown",
   "metadata": {
    "nbgrader": {
     "checksum": "06d359bd35187ad35c36de57376e2cad",
     "grade": false,
     "grade_id": "cell-d5f8224f284306d3",
     "locked": true,
     "schema_version": 1,
     "solution": false
    }
   },
   "source": [
    "<h3>Visualizing Data</h3>\n",
    "<p>In the cell below, you generate a simple 1-dimensional toy dataset by calling <code>generate_data</code>. This function returns the data $\\mathbf{X}$ and label $\\mathbf{y}$. Note that $X$ is of shape (N, 2). We append 1 to each example to introduce bias.</p>"
   ]
  },
  {
   "cell_type": "code",
   "execution_count": 3,
   "metadata": {
    "nbgrader": {
     "checksum": "e7f3a57d55f57616f25b7babfbf03822",
     "grade": false,
     "grade_id": "cell-07e24f138d476ac4",
     "locked": true,
     "schema_version": 1,
     "solution": false
    }
   },
   "outputs": [
    {
     "name": "stdout",
     "output_type": "stream",
     "text": [
      "The shape of X is (50, 2). This is because we append 1 to each feature vector to introduce bias!\n"
     ]
    }
   ],
   "source": [
    "X, y = generate_data()\n",
    "\n",
    "print(f'The shape of X is {X.shape}. This is because we append 1 to each feature vector to introduce bias!')"
   ]
  },
  {
   "cell_type": "code",
   "execution_count": 4,
   "metadata": {
    "nbgrader": {
     "checksum": "cccde96d16ffe46cfbc0a0b83cb8ec8f",
     "grade": false,
     "grade_id": "cell-22f2e1e5eea4b07b",
     "locked": true,
     "schema_version": 1,
     "solution": false
    }
   },
   "outputs": [
    {
     "data": {
      "image/png": "[encoded data removed]",
      "text/plain": [
       "<Figure size 432x288 with 1 Axes>"
      ]
     },
     "metadata": {
      "needs_background": "light"
     },
     "output_type": "display_data"
    }
   ],
   "source": [
    "plt.plot(X[:, 0], y, '*')\n",
    "plt.xlabel('x')\n",
    "plt.ylabel('y')\n",
    "plt.show()"
   ]
  },
  {
   "cell_type": "markdown",
   "metadata": {
    "nbgrader": {
     "checksum": "44b3a662d905db9944c400ba7d3fb4f1",
     "grade": false,
     "grade_id": "cell-6aae1a46a88cfb3d",
     "locked": true,
     "schema_version": 1,
     "solution": false
    }
   },
   "source": [
    "<h2>Multilayer Perceptron</h2>\n",
    "\n",
    "<h3>Part Zero: Transition Function and Transition Function's gradient</h3>\n",
    "<p>Transition functions are the key component of a neural network that contributes to its nonlinearity. For our neural network, we are going to use the ReLU transition function. Recall that the ReLU transition is as follows:</p>\n",
    "$$\\sigma(z) = \\max(z, 0)$$\n",
    "\n",
    "<p>We have implemented the <code>ReLU</code> and <code>ReLU_grad</code> functions as follow: (As its name suggests,  <code>ReLU_grad</code> computes the gradient of the ReLU function.)</p>"
   ]
  },
  {
   "cell_type": "code",
   "execution_count": 5,
   "metadata": {
    "nbgrader": {
     "checksum": "cca218120ce7f2f7c4ca4b1e48600497",
     "grade": false,
     "grade_id": "cell-e29d6d493186387e",
     "locked": true,
     "schema_version": 1,
     "solution": false
    }
   },
   "outputs": [],
   "source": [
    "def ReLU(z):\n",
    "    return np.maximum(z, 0)"
   ]
  },
  {
   "cell_type": "code",
   "execution_count": 6,
   "metadata": {
    "nbgrader": {
     "checksum": "2587398563b3ba98ff09811d58c52ee1",
     "grade": false,
     "grade_id": "cell-0e334778f4924bd7",
     "locked": true,
     "schema_version": 1,
     "solution": false
    }
   },
   "outputs": [],
   "source": [
    "def ReLU_grad(z):\n",
    "    return (z > 0).astype('float64')"
   ]
  },
  {
   "cell_type": "markdown",
   "metadata": {
    "nbgrader": {
     "checksum": "ae69ce2770d9e51a290013c3c7630a1a",
     "grade": false,
     "grade_id": "cell-d719110877776b79",
     "locked": true,
     "schema_version": 1,
     "solution": false
    }
   },
   "source": [
    "<h4>Visualize the Activation Function</h4>\n",
    "We can now visualize the activation function in the plot above by running the code in the cell below."
   ]
  },
  {
   "cell_type": "code",
   "execution_count": 7,
   "metadata": {
    "nbgrader": {
     "checksum": "147b5f354e921e6fb1dfeab636d8fa17",
     "grade": false,
     "grade_id": "cell-ea052350528f5135",
     "locked": true,
     "schema_version": 1,
     "solution": false
    }
   },
   "outputs": [
    {
     "data": {
      "text/plain": [
       "<matplotlib.legend.Legend at 0x7f1615b7af98>"
      ]
     },
     "execution_count": 7,
     "metadata": {},
     "output_type": "execute_result"
    },
    {
     "data": {
      "image/png": "[encoded data removed]",
      "text/plain": [
       "<Figure size 432x288 with 1 Axes>"
      ]
     },
     "metadata": {
      "needs_background": "light"
     },
     "output_type": "display_data"
    }
   ],
   "source": [
    "plt.plot(np.linspace(-4, 4, 1000), ReLU(np.linspace(-4, 4, 1000)),'b-')\n",
    "plt.plot(np.linspace(-4, 4, 1000), ReLU_grad(np.linspace(-4, 4, 1000)),'r-')\n",
    "plt.xlabel('z')\n",
    "plt.ylabel(r'$\\max$ (z, 0)')\n",
    "plt.legend(['ReLU','ReLU_grad'])"
   ]
  },
  {
   "cell_type": "markdown",
   "metadata": {},
   "source": [
    "We can also display the function and its gradient on a small example vector:"
   ]
  },
  {
   "cell_type": "code",
   "execution_count": 8,
   "metadata": {},
   "outputs": [
    {
     "name": "stdout",
     "output_type": "stream",
     "text": [
      "X: [ 2.7 -0.5 -3.2]\n",
      "ReLU(X): [2.7 0.  0. ]\n",
      "ReLU_grad(X): [1. 0. 0.]\n"
     ]
    }
   ],
   "source": [
    "x=np.array([2.7,-0.5,-3.2])\n",
    "print(\"X:\",x)\n",
    "print(\"ReLU(X):\",ReLU(x))\n",
    "print(\"ReLU_grad(X):\",ReLU_grad(x))"
   ]
  },
  {
   "cell_type": "markdown",
   "metadata": {
    "nbgrader": {
     "checksum": "a66317fcd5ad87c8d5600aa4d7d0cd20",
     "grade": false,
     "grade_id": "cell-a07168b188ef1922",
     "locked": true,
     "schema_version": 1,
     "solution": false
    }
   },
   "source": [
    "<h3>Part One: Forward Pass [Graded]</h3>\n",
    "\n",
    "In this section, you will implement the forward pass function <code>forward_pass(W, xTr)</code>. Note that $\\mathbf{W}$ specifies the weights of the network at each layer. More specifically, $W[0]$ stores the weights for the first layer of the network, $W[i]$ stores the weights of the (i + 1)-th layer and $W[l-1]$ stores the weights of the last layer.\n",
    "\n",
    "Each layer of the network produces two outputs, $A[i + 1]$ and \n",
    "$Z[i + 1]$, where \n",
    "\n",
    "$$A[i + 1]=Z[i] * W[i]$$ \n",
    "for $i = 0, 1, 2, ..., l-1$ and \n",
    "$$Z[i+1]=\\sigma(A[i+1])$$ for $i = 0, 1, 2, ..., l-2$ and \n",
    "$$Z[l-1]=A[l-1]$$\n",
    "\n",
    "\n",
    "Here, $*$ stands for matrix multiplication and $Z[0], A[0]$ are both initialized to be the the training set.\n",
    "\n",
    "For simplicity, we did not include bias when calculating $A[i + 1]$. For the purpose of this assignment, this is fine since we have appended one in all the raw features and  our dataset is rather simple. In general, bias should always be included when calculating $A[i + 1]$"
   ]
  },
  {
   "cell_type": "markdown",
   "metadata": {
    "nbgrader": {
     "checksum": "4cef7136b613ead10eac9db4d8814d7e",
     "grade": false,
     "grade_id": "cell-7a43a3f723e9b98a",
     "locked": true,
     "schema_version": 1,
     "solution": false
    }
   },
   "source": [
    "To visualize the variables `A`, `Z`, and `W` a bit better, consider the following hypothetical neural net layer:\n",
    "![nnlayer.png](nnlayer.png)\n",
    "\n",
    "It is important to note that `W[i]` is an *array of matrices*, as specified in the docstring for the provided method `initweights`. Since layer `i` has 2 nodes and layer `i+1` has 3, `W[i]` is a 2 by 3 matrix.\n",
    "\n",
    "Additionally, $\\sigma$ is applied elementwise to the values in `A[i+1]`, and is `ReLU` for this assignment. The final output at the end of the neural network should be `Z[l]`."
   ]
  },
  {
   "cell_type": "markdown",
   "metadata": {
    "nbgrader": {
     "checksum": "74a41aba1c0f68bb0717cc71633155d4",
     "grade": false,
     "grade_id": "cell-b652c9590b2cfe79",
     "locked": true,
     "schema_version": 1,
     "solution": false
    }
   },
   "source": [
    "The following function will allow you to randomly generate initial weights for the neural network:"
   ]
  },
  {
   "cell_type": "code",
   "execution_count": 9,
   "metadata": {
    "nbgrader": {
     "checksum": "b3591f8a4845ab595034de849e41d07b",
     "grade": false,
     "grade_id": "cell-ce4c1f90a8b0779c",
     "locked": true,
     "schema_version": 1,
     "solution": false
    }
   },
   "outputs": [],
   "source": [
    "def initweights(specs):\n",
    "    \"\"\"\n",
    "    Given a specification of the neural network, output a random weight array\n",
    "    INPUT:\n",
    "        specs - array of length m+1. specs[0] should be the dimension of the feature and spec[-1] \n",
    "                should be the dimension of output\n",
    "    \n",
    "    OUTPUT:\n",
    "        W - array of length m, each element is a matrix\n",
    "            where size(weights[i]) = (specs[i], specs[i+1])\n",
    "    \"\"\"\n",
    "    W = []\n",
    "    for i in range(len(specs) - 1):\n",
    "        W.append(np.random.randn(specs[i], specs[i+1]))\n",
    "    return W"
   ]
  },
  {
   "cell_type": "code",
   "execution_count": 10,
   "metadata": {
    "nbgrader": {
     "checksum": "5302fa6429f037b7c7fdde7753f62e17",
     "grade": false,
     "grade_id": "cell-679cd28956259b78",
     "locked": true,
     "schema_version": 1,
     "solution": false
    }
   },
   "outputs": [],
   "source": [
    "# If we want to create a network that \n",
    "#   i) takes in feature of dimension 2\n",
    "#   ii) has 1 hidden layer with 3 hidden units\n",
    "#   iii) output a scalar\n",
    "# then we initialize the the weights the following way:\n",
    "\n",
    "W = initweights([2, 3, 1])"
   ]
  },
  {
   "cell_type": "markdown",
   "metadata": {
    "nbgrader": {
     "checksum": "d99f182b3ce10daf320241e47c3fc1ad",
     "grade": false,
     "grade_id": "cell-1e5948cf4b4cf360",
     "locked": true,
     "schema_version": 1,
     "solution": false
    }
   },
   "source": [
    "In the cell below, implement the forward pass function <code>forward_pass(W, xTr)</code>. The below is the pseudocode from the READ module: \n",
    "\n",
    "![fwdpass.png](fwdpass.png)\n",
    "\n",
    "<h3>Important</h3>\n",
    "A forward pass is used to evaluate a neural network on an input. However, here, we want to do a forward pass also to train a neural network, i.e. we will follow it with a backward pass. Therefore, unlike the pseudocode from the READ module, our code requires two changes. We output `A` (a <b>list</b> of the outputs at each layer after multiplying by the weights) and `Z` (a <b>list</b> of all outputs at each layer after passing the results of `A` through our transition function). To be precise, the outputs to your function should be $A=[a_1,a_2,\\dots,a_L]$ and $Z=[z_1,z_2,\\dots,z_L]$. The reason we need these intermediate results is that it is much more efficient to not recompute them when we use them during the back-prop pass. "
   ]
  },
  {
   "cell_type": "code",
   "execution_count": 11,
   "metadata": {
    "nbgrader": {
     "checksum": "09a74767f1f49438daa79aad6bf71327",
     "grade": false,
     "grade_id": "cell-forward_pass",
     "locked": false,
     "schema_version": 1,
     "solution": true
    }
   },
   "outputs": [],
   "source": [
    "def forward_pass(W, xTr):\n",
    "    \"\"\"\n",
    "    function forward_pass(weights,xTr)\n",
    "    \n",
    "    INPUT:\n",
    "    W - an array of L weight matrices\n",
    "    xTr - nxd matrix. Each row is an input vector\n",
    "    \n",
    "    OUTPUTS:\n",
    "    A - a list of matrices (of length L) that stores result of matrix multiplication at each layer \n",
    "    Z - a list of matrices (of length L) that stores result of transition function at each layer \n",
    "    \"\"\"\n",
    "    \n",
    "    # Initialize A and Z\n",
    "    A = [xTr]\n",
    "    Z = [xTr]\n",
    "    # YOUR CODE HERE\n",
    "    for i in range(len(W)):\n",
    "        ai = Z[i] @ W[i]\n",
    "        A.append(ai)\n",
    "        \n",
    "        if i == len(W)-1:\n",
    "            zi = ai\n",
    "        else:\n",
    "            zi = ReLU(ai)\n",
    "        Z.append(zi)\n",
    "    # YOUR CODE HERE\n",
    "    #raise NotImplementedError()\n",
    "    return A, Z"
   ]
  },
  {
   "cell_type": "code",
   "execution_count": 12,
   "metadata": {
    "nbgrader": {
     "checksum": "7cf35eae68b1c9a9030d4917398e09e0",
     "grade": false,
     "grade_id": "cell-forward_pass-selftest",
     "locked": true,
     "schema_version": 1,
     "solution": false
    }
   },
   "outputs": [
    {
     "name": "stdout",
     "output_type": "stream",
     "text": [
      "Running Test: forward_test1 ... ✔ Passed!\n",
      "Running Test: forward_test2 ... ✔ Passed!\n",
      "Running Test: forward_test3 ... ✔ Passed!\n",
      "Running Test: forward_test4 ... ✔ Passed!\n",
      "Running Test: forward_test5 ... ✔ Passed!\n"
     ]
    }
   ],
   "source": [
    "def forward_test1():\n",
    "    X, _ = generate_data() # generate data\n",
    "    W = initweights([2, 3, 1]) # generate random weights\n",
    "    out = forward_pass(W, X) # run forward pass\n",
    "    return len(out) == 2 # make sure that your function return a tuple\n",
    "\n",
    "def forward_test2():\n",
    "    X, _ = generate_data() # generate data\n",
    "    W = initweights([2, 3, 1]) # generate random weights\n",
    "    A, Z = forward_pass(W, X) # run forward pass\n",
    "    return len(A) == 3 and len(Z) == 3 # Make sure that output produced match the length of the weight\n",
    "\n",
    "def forward_test3():\n",
    "    X, _ = generate_data() # generate data\n",
    "    n, _ = X.shape\n",
    "    W = initweights([2, 3, 1]) # generate random weights\n",
    "    A, Z = forward_pass(W, X) # run forward pass\n",
    "    return (A[1].shape == (n, 3) and \n",
    "            Z[1].shape == (n, 3)  and\n",
    "            A[2].shape == (n, 1) and\n",
    "            A[2].shape == (n, 1) ) # Make sure the layer produce the right shape output\n",
    "\n",
    "def forward_test4():\n",
    "    X = -1*np.ones((1, 2)) # generate a feature matrix of all negative ones\n",
    "    W = [np.ones((2, 1))] # a single layer network with weights one\n",
    "    A, Z = forward_pass(W, X) # run forward pass\n",
    "    \n",
    "    # check whether you do not apply the transition function to A[-1] \n",
    "    return np.linalg.norm(Z[-1] - X@W[0]) < 1e-7\n",
    "\n",
    "def forward_test5():\n",
    "    X, _ = generate_data() # generate data\n",
    "    n, _ = X.shape\n",
    "    W = initweights([2, 3, 1]) # generate random weights\n",
    "    A, Z = forward_pass(W, X) # run your forward pass\n",
    "    A_grader, Z_grader = forward_pass_grader(W, X) # run our forward pass\n",
    "    \n",
    "    Adiff = 0\n",
    "    Zdiff = 0\n",
    "    \n",
    "    # compute the difference between your solution and ours\n",
    "    for i in range(1, 3):\n",
    "        Adiff += np.linalg.norm(A[i] - A_grader[i])\n",
    "        Zdiff += np.linalg.norm(Z[i] - Z_grader[i])\n",
    "        \n",
    "    return Adiff < 1e-7 and Zdiff < 1e-7\n",
    "\n",
    "runtest(forward_test1, \"forward_test1\")\n",
    "runtest(forward_test2, \"forward_test2\")\n",
    "runtest(forward_test3, \"forward_test3\")\n",
    "runtest(forward_test4, \"forward_test4\")\n",
    "runtest(forward_test5, \"forward_test5\")"
   ]
  },
  {
   "cell_type": "code",
   "execution_count": 13,
   "metadata": {
    "nbgrader": {
     "checksum": "53bf00499502d8d292ddf3f1a1e300e1",
     "grade": true,
     "grade_id": "cell-Forward_test1",
     "locked": true,
     "points": 1,
     "schema_version": 1,
     "solution": false
    }
   },
   "outputs": [],
   "source": [
    "# Autograder Test Cell\n",
    "# Forward_test1\n"
   ]
  },
  {
   "cell_type": "code",
   "execution_count": 14,
   "metadata": {
    "nbgrader": {
     "checksum": "847bb16323ea363320d2b84dbe988b06",
     "grade": true,
     "grade_id": "cell-Forward_test2",
     "locked": true,
     "points": 1,
     "schema_version": 1,
     "solution": false
    }
   },
   "outputs": [],
   "source": [
    "# Autograder Test Cell\n",
    "# Forward_test2\n"
   ]
  },
  {
   "cell_type": "code",
   "execution_count": 15,
   "metadata": {
    "nbgrader": {
     "checksum": "37406b4b096f046cf8bbbf9112fe0770",
     "grade": true,
     "grade_id": "cell-Forward_test3",
     "locked": true,
     "points": 1,
     "schema_version": 1,
     "solution": false
    }
   },
   "outputs": [],
   "source": [
    "# Autograder Test Cell\n",
    "# Forward_test3\n"
   ]
  },
  {
   "cell_type": "code",
   "execution_count": 16,
   "metadata": {
    "nbgrader": {
     "checksum": "d83df06f2dcef188f9bd1ef580f5132e",
     "grade": true,
     "grade_id": "cell-Forward_test4",
     "locked": true,
     "points": 1,
     "schema_version": 1,
     "solution": false
    }
   },
   "outputs": [],
   "source": [
    "# Autograder Test Cell\n",
    "# Forward_test4\n"
   ]
  },
  {
   "cell_type": "code",
   "execution_count": 17,
   "metadata": {
    "nbgrader": {
     "checksum": "90fea4382dd0ac07fcf073589b6cf6fe",
     "grade": true,
     "grade_id": "cell-Forward_test5",
     "locked": true,
     "points": 1,
     "schema_version": 1,
     "solution": false
    }
   },
   "outputs": [],
   "source": [
    "# Autograder Test Cell\n",
    "# Forward_test5\n"
   ]
  },
  {
   "cell_type": "markdown",
   "metadata": {
    "nbgrader": {
     "checksum": "088cd5563ae7d5de1653a464a1919741",
     "grade": false,
     "grade_id": "cell-d74c4dde8e4ec273",
     "locked": true,
     "schema_version": 1,
     "solution": false
    }
   },
   "source": [
    "<h3>Part Two: MSE Loss and Gradient</h3>\n",
    "<h4>Loss Function [Graded]</h4>\n",
    "\n",
    "In this section, you are going to implement the Mean Squared Error (MSE) loss function for regression. Recall that for a set of training example $\\{(\\mathbf{x}_1, y_1), ..., (\\mathbf{x}_n, y_n)\\}$, the MSE of the network $h$ is \n",
    "\n",
    "$$L = \\frac{1}{n} \\sum_{i = 1} ^n(h(\\mathbf{x}_i) - y_i)^2$$\n",
    "\n",
    "The <code>MSE</code> function you are going to implement takes the output of the network (<code>out</code>) and the training labels (<code>y</code>) and computes the MSE loss. You will also need to implement the <code>MSE_grad</code> function that will calculate the gradient of the MSE loss with respect to each entry of `out`. This function will be useful when you implement backpropagation."
   ]
  },
  {
   "cell_type": "code",
   "execution_count": 18,
   "metadata": {
    "nbgrader": {
     "checksum": "9c606193a93ab0aea16445abe3a9c65e",
     "grade": false,
     "grade_id": "cell-MSE",
     "locked": false,
     "schema_version": 1,
     "solution": true
    }
   },
   "outputs": [],
   "source": [
    "def MSE(out, y):\n",
    "    \"\"\"\n",
    "    INPUT:\n",
    "    out: output of network (n vector)\n",
    "    y: training labels (n vector)\n",
    "    \n",
    "    OUTPUTS:\n",
    "    \n",
    "    loss: the mse loss (a scalar)\n",
    "    \"\"\"\n",
    "    \n",
    "    n = len(y)\n",
    "    loss = 0\n",
    "\n",
    "    # YOUR CODE HERE\n",
    "    loss = np.mean((out - y)**2)\n",
    "    # YOUR CODE HERE\n",
    "    #raise NotImplementedError()\n",
    "\n",
    "    return loss"
   ]
  },
  {
   "cell_type": "code",
   "execution_count": 19,
   "metadata": {
    "nbgrader": {
     "checksum": "818cf806c15ad62ca5f13e31c7906acc",
     "grade": false,
     "grade_id": "cell-MSE-selftest",
     "locked": true,
     "schema_version": 1,
     "solution": false
    }
   },
   "outputs": [
    {
     "name": "stdout",
     "output_type": "stream",
     "text": [
      "Running Test: MSE_test1 ... ✔ Passed!\n",
      "Running Test: MSE_test2 ... ✔ Passed!\n",
      "Running Test: MSE_test3 ... ✔ Passed!\n"
     ]
    }
   ],
   "source": [
    "def MSE_test1():\n",
    "    X, y = generate_data() # generate data\n",
    "    W = initweights([2, 3, 1]) # generate random weights\n",
    "    A, Z = forward_pass(W, X)\n",
    "    loss = MSE(Z[-1].flatten(), y) # calculate loss\n",
    "    \n",
    "    return np.isscalar(loss) # your loss should be a scalar\n",
    "\n",
    "def MSE_test2():\n",
    "    X, y = generate_data() # generate data\n",
    "    W = initweights([2, 3, 1]) # generate random weights\n",
    "    A, Z = forward_pass(W, X)\n",
    "    loss = MSE(Z[-1].flatten(), y) # calculate loss\n",
    "    \n",
    "    return loss >= 0 # your loss should be nonnegative\n",
    "\n",
    "def MSE_test3():\n",
    "    X, y = generate_data() # generate data\n",
    "    W = initweights([2, 3, 1]) # generate random weights\n",
    "    A, Z = forward_pass(W, X)\n",
    "    loss = MSE(Z[-1].flatten(), y) # calculate loss\n",
    "    loss_grader = MSE_grader(Z[-1].flatten(), y)\n",
    "    \n",
    "    # your loss should not deviate too much from ours\n",
    "    # If you fail this test case, check whether you divide your loss by 1/n\n",
    "    return np.absolute(loss - loss_grader) < 1e-7 \n",
    "\n",
    "runtest(MSE_test1, \"MSE_test1\")\n",
    "runtest(MSE_test2, \"MSE_test2\")\n",
    "runtest(MSE_test3, \"MSE_test3\")"
   ]
  },
  {
   "cell_type": "code",
   "execution_count": 20,
   "metadata": {
    "nbgrader": {
     "checksum": "04b41ab5b1542cd203329d6b51c4cdc9",
     "grade": true,
     "grade_id": "cell-MSE_test1",
     "locked": true,
     "points": 1,
     "schema_version": 1,
     "solution": false
    }
   },
   "outputs": [],
   "source": [
    "# Autograder Test Cell\n",
    "# MSE_test1\n"
   ]
  },
  {
   "cell_type": "code",
   "execution_count": 21,
   "metadata": {
    "nbgrader": {
     "checksum": "b7dfae7c68617ebceb65235eef8cb058",
     "grade": true,
     "grade_id": "cell-MSE_test2",
     "locked": true,
     "points": 1,
     "schema_version": 1,
     "solution": false
    }
   },
   "outputs": [],
   "source": [
    "# Autograder Test Cell\n",
    "# MSE_test2\n"
   ]
  },
  {
   "cell_type": "code",
   "execution_count": 22,
   "metadata": {
    "nbgrader": {
     "checksum": "6bea73887d3924fd6017d245af062024",
     "grade": true,
     "grade_id": "cell-MSE_test3",
     "locked": true,
     "points": 1,
     "schema_version": 1,
     "solution": false
    }
   },
   "outputs": [],
   "source": [
    "# Autograder Test Cell\n",
    "# MSE_test3\n"
   ]
  },
  {
   "cell_type": "markdown",
   "metadata": {},
   "source": [
    "#### Gradient [Graded]\n",
    "\n",
    "You will now need to implement the gradient of the MSE loss calculated above. When you take the derivative of the above with respect to the entries of out, you get the following:\n",
    "$$\\nabla L = \\frac{2}{n} * (h(\\mathbf{x}_i) - y_i)$$\n",
    "\n",
    "Implement the above in the function `MSE_grad`."
   ]
  },
  {
   "cell_type": "code",
   "execution_count": 25,
   "metadata": {
    "nbgrader": {
     "checksum": "1b9347652d122d0da43254f07abf3059",
     "grade": false,
     "grade_id": "cell-MSE_grad",
     "locked": false,
     "schema_version": 1,
     "solution": true
    }
   },
   "outputs": [],
   "source": [
    "def MSE_grad(out, y):\n",
    "    \"\"\"\n",
    "    INPUT:\n",
    "    out: output of network (n vector)\n",
    "    y: training labels (n vector)\n",
    "    \n",
    "    OUTPUTS:\n",
    "    \n",
    "    grad: the gradient of the MSE loss with respect to out (nx1 vector)\n",
    "    \"\"\"\n",
    "    \n",
    "    n = len(y)\n",
    "    grad = np.zeros(n)\n",
    "\n",
    "    # YOUR CODE HERE\n",
    "    grad = 2/n * (out -y)\n",
    "    \n",
    "    # YOUR CODE HERE\n",
    "    #raise NotImplementedError()\n",
    "\n",
    "    return grad"
   ]
  },
  {
   "cell_type": "code",
   "execution_count": 26,
   "metadata": {
    "nbgrader": {
     "checksum": "6616ef3227bd843df2140ed69005a37b",
     "grade": false,
     "grade_id": "cell-MSE_grad-selftest",
     "locked": true,
     "schema_version": 1,
     "solution": false
    }
   },
   "outputs": [
    {
     "name": "stdout",
     "output_type": "stream",
     "text": [
      "Running Test: MSE_grad_test1 ... ✔ Passed!\n",
      "Running Test: MSE_grad_test2 ... ✔ Passed!\n",
      "Running Test: MSE_grad_test3 ... ✔ Passed!\n"
     ]
    }
   ],
   "source": [
    "def MSE_grad_test1():\n",
    "    X, y = generate_data() # generate data\n",
    "    \n",
    "    n, _ = X.shape\n",
    "    W = initweights([2, 3, 1]) # generate random weights\n",
    "    A, Z = forward_pass(W, X)\n",
    "    \n",
    "    grad = MSE_grad(Z[-1].flatten(), y)\n",
    "    return grad.shape == (n, ) # check if the gradient has the right shape\n",
    "\n",
    "def MSE_grad_test2():\n",
    "    out = np.array([1])\n",
    "    y = np.array([1.2])\n",
    "    \n",
    "    # calculate numerical gradient using finite difference\n",
    "    numerical_grad = (MSE(out + 1e-7, y) - MSE(out - 1e-7, y)) / 2e-7\n",
    "    grad = MSE_grad(out, y)\n",
    "    \n",
    "    # check your gradient is close to the numerical gradient\n",
    "    return np.linalg.norm(numerical_grad - grad) < 1e-7\n",
    "\n",
    "def MSE_grad_test3():\n",
    "    X, y = generate_data() # generate data\n",
    "    \n",
    "    n, _ = X.shape\n",
    "    W = initweights([2, 3, 1]) # generate random weights\n",
    "    A, Z = forward_pass(W, X)\n",
    "    \n",
    "    grad = MSE_grad(Z[-1].flatten(), y)\n",
    "    grad_grader = MSE_grad_grader(Z[-1].flatten(), y) # compute gradient using our solution\n",
    "    \n",
    "    # your gradient should not deviate too much from ours\n",
    "    return np.linalg.norm(grad_grader - grad) < 1e-7\n",
    "\n",
    "runtest(MSE_grad_test1, 'MSE_grad_test1')\n",
    "runtest(MSE_grad_test2, 'MSE_grad_test2')\n",
    "runtest(MSE_grad_test3, 'MSE_grad_test3')"
   ]
  },
  {
   "cell_type": "code",
   "execution_count": 27,
   "metadata": {
    "nbgrader": {
     "checksum": "03680a1ac85a28ddef80533508da1fd0",
     "grade": true,
     "grade_id": "cell-MSE_grad-test1",
     "locked": true,
     "points": 1,
     "schema_version": 1,
     "solution": false
    }
   },
   "outputs": [],
   "source": [
    "# Autograder Test Cell\n",
    "# MSE_grad_test1\n"
   ]
  },
  {
   "cell_type": "code",
   "execution_count": 28,
   "metadata": {
    "nbgrader": {
     "checksum": "68b79dd5b4f4f01ccad25e2f75ca3b77",
     "grade": true,
     "grade_id": "cell-MSE_grad-test2",
     "locked": true,
     "points": 1,
     "schema_version": 1,
     "solution": false
    }
   },
   "outputs": [],
   "source": [
    "# Autograder Test Cell\n",
    "# MSE_grad_test2\n"
   ]
  },
  {
   "cell_type": "code",
   "execution_count": 29,
   "metadata": {
    "nbgrader": {
     "checksum": "1cb5c4d76e6c729909acbbba57be3825",
     "grade": true,
     "grade_id": "cell-MSE_grad-test3",
     "locked": true,
     "points": 1,
     "schema_version": 1,
     "solution": false
    }
   },
   "outputs": [],
   "source": [
    "# Autograder Test Cell\n",
    "# MSE_grad_test3\n"
   ]
  },
  {
   "cell_type": "markdown",
   "metadata": {},
   "source": [
    "<h3> Part Three: Backpropagation [Graded]</h3>\n",
    "\n",
    "In this section, you are going to implement the <code>backprop</code> for a ReLU network specified by the weight <code>W</code>. To recap, this is the stage that updates all the weights in the network starting from the last layer. \n",
    "\n",
    "Again, our implementation will have slight tweaks from the one in the READ module on back propagation. \n",
    "* Recall that in backpropagation, we alternate between calculating a \"link\" ( $\\frac{\\partial \\mathcal L}{\\partial \\mathbf a_\\ell}$) and updating the weight ($\\mathbf W_\\ell = \\mathbf W_\\ell -\\alpha \\frac{\\partial \\mathcal L}{\\partial \\mathbf W_\\ell}$). In this function, you only calculate the update $\\frac{\\partial \\mathcal L}{\\partial \\mathbf W_\\ell}$, **without applying it**. In other words, you store all the $\\frac{\\partial \\mathcal L}{\\partial \\mathbf W_\\ell}$ for all $1 \\le \\ell \\le L$, and return them all in the list `gradients`.\n",
    "* We have absorbed $b$ into $\\mathbf W$, so you don't need to calculate its gradient explicitly (thus, you should just ignore the second line in the for loop of the pseudocode!) \n",
    "* In our code `delta` = $\\vec \\delta _ \\ell = \\frac{\\partial \\mathcal L}{\\partial \\mathbf a_\\ell}$. The line initializing it has been done for you, so you only need to implement the for loop from the pseudocode (copied below).\n",
    "\n",
    "![backpass.png](backpass.png)\n",
    "\n",
    "Hint: In python you can multiply two matrices <code>D,B</code> element-wise with <code>D*B</code>. "
   ]
  },
  {
   "cell_type": "code",
   "execution_count": 42,
   "metadata": {
    "nbgrader": {
     "checksum": "6d381390ed16caf4c22a62e7a1dcce73",
     "grade": false,
     "grade_id": "cell-backprop",
     "locked": false,
     "schema_version": 1,
     "solution": true
    }
   },
   "outputs": [],
   "source": [
    "def backprop(W, A, Z, y):\n",
    "    \"\"\"\n",
    "    \n",
    "    INPUT:\n",
    "    W weights (cell array)\n",
    "    A output of forward pass (cell array)\n",
    "    Z output of forward pass (cell array)\n",
    "    y vector of size n (each entry is a label)\n",
    "    \n",
    "    OUTPUTS:\n",
    "    \n",
    "    gradient = the gradient with respect to W as a cell array of matrices\n",
    "    \"\"\"\n",
    "    \n",
    "    # Convert delta to a row vector to make things easier\n",
    "    delta = (MSE_grad(Z[-1].flatten(), y) * 1).reshape(-1, 1)\n",
    "\n",
    "    # compute gradient with backprop\n",
    "    gradients = []\n",
    "    \n",
    "    # YOUR CODE HERE\n",
    "    for i in range(len(W) - 1,-1,-1):\n",
    "        wl = (Z[i].T) @ (delta)\n",
    "        wd = (delta) @ (W[i].T)\n",
    "        gradients.append(wl)\n",
    "        delta = ReLU_grad(A[i]) * (wd)\n",
    "        \n",
    "    gradients = gradients[::-1]\n",
    "    \n",
    "    # YOUR CODE HERE\n",
    "    #raise NotImplementedError()\n",
    "    \n",
    "    return gradients"
   ]
  },
  {
   "cell_type": "code",
   "execution_count": 43,
   "metadata": {
    "nbgrader": {
     "checksum": "991c036362b91c78202b2e16b67f36ed",
     "grade": false,
     "grade_id": "cell-backprop-selftest",
     "locked": true,
     "schema_version": 1,
     "solution": false
    }
   },
   "outputs": [
    {
     "name": "stdout",
     "output_type": "stream",
     "text": [
      "Running Test: backprop_test1 ... ✔ Passed!\n",
      "Running Test: backprop_test2 ... ✔ Passed!\n",
      "Running Test: backprop_test3 ... ✔ Passed!\n",
      "Running Test: backprop_test4 ... ✔ Passed!\n",
      "Running Test: backprop_test5 ... ✔ Passed!\n"
     ]
    }
   ],
   "source": [
    "def backprop_test1():\n",
    "    X, y = generate_data() # generate data\n",
    "    \n",
    "    n, _ = X.shape\n",
    "    W = initweights([2, 3, 1]) # generate random weights\n",
    "    A, Z = forward_pass(W, X)\n",
    "    \n",
    "    gradient = backprop(W, A, Z, y) # backprop to calculate the gradient\n",
    "    \n",
    "    # You should return a list with the same len as W\n",
    "    return len(gradient) == len(W)\n",
    "\n",
    "def backprop_test2():\n",
    "    X, y = generate_data() # generate data\n",
    "    \n",
    "    n, _ = X.shape\n",
    "    W = initweights([2, 3, 1]) # generate random weights\n",
    "    A, Z = forward_pass(W, X)\n",
    "    \n",
    "    gradient = backprop(W, A, Z, y) # backprop to calculate the gradient\n",
    "    \n",
    "    # gradient[i] should match the shape of W[i]\n",
    "    return np.all([gradient[i].shape == W[i].shape for i in range(len(W))])\n",
    "\n",
    "def backprop_test3():\n",
    "    X, y = generate_data() # generate data\n",
    "    \n",
    "    n, _ = X.shape\n",
    "    \n",
    "    # Use a one layer network\n",
    "    # This is essentially the least squares\n",
    "    W = initweights([2, 1]) \n",
    "    \n",
    "    A, Z = forward_pass(W, X)\n",
    "    \n",
    "    # backprop to calculate the gradient\n",
    "    gradient = backprop(W, A, Z, y) \n",
    "    \n",
    "    # calculate the least square gradient\n",
    "    least_square_gradient = 2 *((X.T @ X) @ W[0] - X.T @ y.reshape(-1, 1)) / n\n",
    "    \n",
    "    # gradient[0] should be the least square gradient\n",
    "    return np.linalg.norm(gradient[0] - least_square_gradient) < 1e-7\n",
    "\n",
    "def backprop_test4():\n",
    "    X, y = generate_data() # generate data\n",
    "    \n",
    "    n, _ = X.shape\n",
    "    \n",
    "    # Use a one layer network\n",
    "    # This is essentially the least squares\n",
    "    W = initweights([2, 5, 5, 1]) \n",
    "    \n",
    "    A, Z = forward_pass(W, X)\n",
    "    \n",
    "    # backprop to calculate the gradient\n",
    "    gradient = backprop(W, A, Z, y) \n",
    "    \n",
    "    # calculate the backprop gradient\n",
    "    gradient_grader = backprop_grader(W, A, Z, y)\n",
    "    \n",
    "    # Check whether your gradient matches ours\n",
    "    OK=[len(gradient_grader)==len(gradient)] # check if length matches\n",
    "    for (g,gg) in zip(gradient_grader,gradient): # check if each component matches in shape and values\n",
    "        OK.append(gg.shape==g.shape and (np.linalg.norm(g - gg) < 1e-7))\n",
    "    return(all(OK))\n",
    "\n",
    "def backprop_test5():\n",
    "    # Here we reverse your gradient output and check that reverse with ours. It shouldn't match. \n",
    "    # If your reverse gradient matches our gradient, this means you outputted the gradient in reverse order.\n",
    "    # This is a common mistake, as the loop is backwards. \n",
    "    X, y = generate_data() # generate data\n",
    "    \n",
    "    n, _ = X.shape\n",
    "    \n",
    "    # Use a one layer network\n",
    "    # This is essentially the least squares\n",
    "    W = initweights([2, 5, 5, 1]) \n",
    "    \n",
    "    A, Z = forward_pass(W, X)\n",
    "    \n",
    "    # backprop to calculate the gradient\n",
    "    gradient = backprop(W, A, Z, y) \n",
    "    \n",
    "    # calculate the backprop gradient\n",
    "    gradient_grader = backprop_grader(W, A, Z, y)\n",
    "\n",
    "    gradient.reverse() # reverse the gradient. From now on it should NOT match\n",
    "    # Check whether your gradient matches ours\n",
    "    OK=[] # check if length matches\n",
    "    for (g,gg) in zip(gradient_grader,gradient): # check if each component matches\n",
    "        OK.append(gg.shape==g.shape and (np.linalg.norm(g - gg) < 1e-7))\n",
    "    return(not all(OK)) \n",
    "\n",
    "\n",
    "\n",
    "runtest(backprop_test1, 'backprop_test1')\n",
    "runtest(backprop_test2, 'backprop_test2')\n",
    "runtest(backprop_test3, 'backprop_test3')\n",
    "runtest(backprop_test4, 'backprop_test4')\n",
    "runtest(backprop_test5, 'backprop_test5')"
   ]
  },
  {
   "cell_type": "code",
   "execution_count": 44,
   "metadata": {
    "nbgrader": {
     "checksum": "4bedf414569df520d6a69e116129df0a",
     "grade": true,
     "grade_id": "cell-backprop_test1",
     "locked": true,
     "points": 1,
     "schema_version": 1,
     "solution": false
    }
   },
   "outputs": [],
   "source": [
    "# Autograder Test Cell\n",
    "# backprop_test1\n"
   ]
  },
  {
   "cell_type": "code",
   "execution_count": 45,
   "metadata": {
    "nbgrader": {
     "checksum": "3b4cce51470bdbc79a48e52c6b0f8cb9",
     "grade": true,
     "grade_id": "cell-backprop_test2",
     "locked": true,
     "points": 1,
     "schema_version": 1,
     "solution": false
    }
   },
   "outputs": [],
   "source": [
    "# Autograder Test Cell\n",
    "# backprop_test2\n"
   ]
  },
  {
   "cell_type": "code",
   "execution_count": 46,
   "metadata": {
    "nbgrader": {
     "checksum": "8840bf7022634088a4cb5eec461fe537",
     "grade": true,
     "grade_id": "cell-backprop_test3",
     "locked": true,
     "points": 1,
     "schema_version": 1,
     "solution": false
    }
   },
   "outputs": [],
   "source": [
    "# Autograder Test Cell\n",
    "# backprop_test3\n"
   ]
  },
  {
   "cell_type": "code",
   "execution_count": 47,
   "metadata": {
    "nbgrader": {
     "checksum": "549a85e98e1858fab80323942f9871a7",
     "grade": true,
     "grade_id": "cell-backprop_test4",
     "locked": true,
     "points": 1,
     "schema_version": 1,
     "solution": false
    }
   },
   "outputs": [],
   "source": [
    "# Autograder Test Cell\n",
    "# backprop_test4\n"
   ]
  },
  {
   "cell_type": "code",
   "execution_count": 48,
   "metadata": {
    "nbgrader": {
     "checksum": "a5d5fe5aee99c985fc778fef5efe7b7b",
     "grade": true,
     "grade_id": "cell-backprop_test5",
     "locked": true,
     "points": 1,
     "schema_version": 1,
     "solution": false
    }
   },
   "outputs": [],
   "source": [
    "# Autograder Test Cell\n",
    "# backprop_test5\n"
   ]
  },
  {
   "cell_type": "markdown",
   "metadata": {
    "nbgrader": {
     "checksum": "bd6539c0f7f310d04b4a29cc61d57520",
     "grade": false,
     "grade_id": "cell-5bea8cd4b42b1693",
     "locked": true,
     "schema_version": 1,
     "solution": false
    }
   },
   "source": [
    "<h3> Part Four: Training with Gradient Descent</h3>\n",
    "\n",
    "Run the cell below to train a ReLU Network for the task with Gradient Descent. Feel free to play around with the hyperparameters such learning rate, number of epochs, number of hidden layers, size of each hidden layers. "
   ]
  },
  {
   "cell_type": "code",
   "execution_count": 51,
   "metadata": {},
   "outputs": [
    {
     "name": "stdout",
     "output_type": "stream",
     "text": [
      "Elapsed time: 52.82s\n"
     ]
    },
    {
     "data": {
      "application/javascript": [
       "/* Put everything inside the global mpl namespace */\n",
       "window.mpl = {};\n",
       "\n",
       "\n",
       "mpl.get_websocket_type = function() {\n",
       "    if (typeof(WebSocket) !== 'undefined') {\n",
       "        return WebSocket;\n",
       "    } else if (typeof(MozWebSocket) !== 'undefined') {\n",
       "        return MozWebSocket;\n",
       "    } else {\n",
       "        alert('Your browser does not have WebSocket support.' +\n",
       "              'Please try Chrome, Safari or Firefox ≥ 6. ' +\n",
       "              'Firefox 4 and 5 are also supported but you ' +\n",
       "              'have to enable WebSockets in about:config.');\n",
       "    };\n",
       "}\n",
       "\n",
       "mpl.figure = function(figure_id, websocket, ondownload, parent_element) {\n",
       "    this.id = figure_id;\n",
       "\n",
       "    this.ws = websocket;\n",
       "\n",
       "    this.supports_binary = (this.ws.binaryType != undefined);\n",
       "\n",
       "    if (!this.supports_binary) {\n",
       "        var warnings = document.getElementById(\"mpl-warnings\");\n",
       "        if (warnings) {\n",
       "            warnings.style.display = 'block';\n",
       "            warnings.textContent = (\n",
       "                \"This browser does not support binary websocket messages. \" +\n",
       "                    \"Performance may be slow.\");\n",
       "        }\n",
       "    }\n",
       "\n",
       "    this.imageObj = new Image();\n",
       "\n",
       "    this.context = undefined;\n",
       "    this.message = undefined;\n",
       "    this.canvas = undefined;\n",
       "    this.rubberband_canvas = undefined;\n",
       "    this.rubberband_context = undefined;\n",
       "    this.format_dropdown = undefined;\n",
       "\n",
       "    this.image_mode = 'full';\n",
       "\n",
       "    this.root = $('<div/>');\n",
       "    this._root_extra_style(this.root)\n",
       "    this.root.attr('style', 'display: inline-block');\n",
       "\n",
       "    $(parent_element).append(this.root);\n",
       "\n",
       "    this._init_header(this);\n",
       "    this._init_canvas(this);\n",
       "    this._init_toolbar(this);\n",
       "\n",
       "    var fig = this;\n",
       "\n",
       "    this.waiting = false;\n",
       "\n",
       "    this.ws.onopen =  function () {\n",
       "            fig.send_message(\"supports_binary\", {value: fig.supports_binary});\n",
       "            fig.send_message(\"send_image_mode\", {});\n",
       "            if (mpl.ratio != 1) {\n",
       "                fig.send_message(\"set_dpi_ratio\", {'dpi_ratio': mpl.ratio});\n",
       "            }\n",
       "            fig.send_message(\"refresh\", {});\n",
       "        }\n",
       "\n",
       "    this.imageObj.onload = function() {\n",
       "            if (fig.image_mode == 'full') {\n",
       "                // Full images could contain transparency (where diff images\n",
       "                // almost always do), so we need to clear the canvas so that\n",
       "                // there is no ghosting.\n",
       "                fig.context.clearRect(0, 0, fig.canvas.width, fig.canvas.height);\n",
       "            }\n",
       "            fig.context.drawImage(fig.imageObj, 0, 0);\n",
       "        };\n",
       "\n",
       "    this.imageObj.onunload = function() {\n",
       "        fig.ws.close();\n",
       "    }\n",
       "\n",
       "    this.ws.onmessage = this._make_on_message_function(this);\n",
       "\n",
       "    this.ondownload = ondownload;\n",
       "}\n",
       "\n",
       "mpl.figure.prototype._init_header = function() {\n",
       "    var titlebar = $(\n",
       "        '<div class=\"ui-dialog-titlebar ui-widget-header ui-corner-all ' +\n",
       "        'ui-helper-clearfix\"/>');\n",
       "    var titletext = $(\n",
       "        '<div class=\"ui-dialog-title\" style=\"width: 100%; ' +\n",
       "        'text-align: center; padding: 3px;\"/>');\n",
       "    titlebar.append(titletext)\n",
       "    this.root.append(titlebar);\n",
       "    this.header = titletext[0];\n",
       "}\n",
       "\n",
       "\n",
       "\n",
       "mpl.figure.prototype._canvas_extra_style = function(canvas_div) {\n",
       "\n",
       "}\n",
       "\n",
       "\n",
       "mpl.figure.prototype._root_extra_style = function(canvas_div) {\n",
       "\n",
       "}\n",
       "\n",
       "mpl.figure.prototype._init_canvas = function() {\n",
       "    var fig = this;\n",
       "\n",
       "    var canvas_div = $('<div/>');\n",
       "\n",
       "    canvas_div.attr('style', 'position: relative; clear: both; outline: 0');\n",
       "\n",
       "    function canvas_keyboard_event(event) {\n",
       "        return fig.key_event(event, event['data']);\n",
       "    }\n",
       "\n",
       "    canvas_div.keydown('key_press', canvas_keyboard_event);\n",
       "    canvas_div.keyup('key_release', canvas_keyboard_event);\n",
       "    this.canvas_div = canvas_div\n",
       "    this._canvas_extra_style(canvas_div)\n",
       "    this.root.append(canvas_div);\n",
       "\n",
       "    var canvas = $('<canvas/>');\n",
       "    canvas.addClass('mpl-canvas');\n",
       "    canvas.attr('style', \"left: 0; top: 0; z-index: 0; outline: 0\")\n",
       "\n",
       "    this.canvas = canvas[0];\n",
       "    this.context = canvas[0].getContext(\"2d\");\n",
       "\n",
       "    var backingStore = this.context.backingStorePixelRatio ||\n",
       "\tthis.context.webkitBackingStorePixelRatio ||\n",
       "\tthis.context.mozBackingStorePixelRatio ||\n",
       "\tthis.context.msBackingStorePixelRatio ||\n",
       "\tthis.context.oBackingStorePixelRatio ||\n",
       "\tthis.context.backingStorePixelRatio || 1;\n",
       "\n",
       "    mpl.ratio = (window.devicePixelRatio || 1) / backingStore;\n",
       "\n",
       "    var rubberband = $('<canvas/>');\n",
       "    rubberband.attr('style', \"position: absolute; left: 0; top: 0; z-index: 1;\")\n",
       "\n",
       "    var pass_mouse_events = true;\n",
       "\n",
       "    canvas_div.resizable({\n",
       "        start: function(event, ui) {\n",
       "            pass_mouse_events = false;\n",
       "        },\n",
       "        resize: function(event, ui) {\n",
       "            fig.request_resize(ui.size.width, ui.size.height);\n",
       "        },\n",
       "        stop: function(event, ui) {\n",
       "            pass_mouse_events = true;\n",
       "            fig.request_resize(ui.size.width, ui.size.height);\n",
       "        },\n",
       "    });\n",
       "\n",
       "    function mouse_event_fn(event) {\n",
       "        if (pass_mouse_events)\n",
       "            return fig.mouse_event(event, event['data']);\n",
       "    }\n",
       "\n",
       "    rubberband.mousedown('button_press', mouse_event_fn);\n",
       "    rubberband.mouseup('button_release', mouse_event_fn);\n",
       "    // Throttle sequential mouse events to 1 every 20ms.\n",
       "    rubberband.mousemove('motion_notify', mouse_event_fn);\n",
       "\n",
       "    rubberband.mouseenter('figure_enter', mouse_event_fn);\n",
       "    rubberband.mouseleave('figure_leave', mouse_event_fn);\n",
       "\n",
       "    canvas_div.on(\"wheel\", function (event) {\n",
       "        event = event.originalEvent;\n",
       "        event['data'] = 'scroll'\n",
       "        if (event.deltaY < 0) {\n",
       "            event.step = 1;\n",
       "        } else {\n",
       "            event.step = -1;\n",
       "        }\n",
       "        mouse_event_fn(event);\n",
       "    });\n",
       "\n",
       "    canvas_div.append(canvas);\n",
       "    canvas_div.append(rubberband);\n",
       "\n",
       "    this.rubberband = rubberband;\n",
       "    this.rubberband_canvas = rubberband[0];\n",
       "    this.rubberband_context = rubberband[0].getContext(\"2d\");\n",
       "    this.rubberband_context.strokeStyle = \"#000000\";\n",
       "\n",
       "    this._resize_canvas = function(width, height) {\n",
       "        // Keep the size of the canvas, canvas container, and rubber band\n",
       "        // canvas in synch.\n",
       "        canvas_div.css('width', width)\n",
       "        canvas_div.css('height', height)\n",
       "\n",
       "        canvas.attr('width', width * mpl.ratio);\n",
       "        canvas.attr('height', height * mpl.ratio);\n",
       "        canvas.attr('style', 'width: ' + width + 'px; height: ' + height + 'px;');\n",
       "\n",
       "        rubberband.attr('width', width);\n",
       "        rubberband.attr('height', height);\n",
       "    }\n",
       "\n",
       "    // Set the figure to an initial 600x600px, this will subsequently be updated\n",
       "    // upon first draw.\n",
       "    this._resize_canvas(600, 600);\n",
       "\n",
       "    // Disable right mouse context menu.\n",
       "    $(this.rubberband_canvas).bind(\"contextmenu\",function(e){\n",
       "        return false;\n",
       "    });\n",
       "\n",
       "    function set_focus () {\n",
       "        canvas.focus();\n",
       "        canvas_div.focus();\n",
       "    }\n",
       "\n",
       "    window.setTimeout(set_focus, 100);\n",
       "}\n",
       "\n",
       "mpl.figure.prototype._init_toolbar = function() {\n",
       "    var fig = this;\n",
       "\n",
       "    var nav_element = $('<div/>')\n",
       "    nav_element.attr('style', 'width: 100%');\n",
       "    this.root.append(nav_element);\n",
       "\n",
       "    // Define a callback function for later on.\n",
       "    function toolbar_event(event) {\n",
       "        return fig.toolbar_button_onclick(event['data']);\n",
       "    }\n",
       "    function toolbar_mouse_event(event) {\n",
       "        return fig.toolbar_button_onmouseover(event['data']);\n",
       "    }\n",
       "\n",
       "    for(var toolbar_ind in mpl.toolbar_items) {\n",
       "        var name = mpl.toolbar_items[toolbar_ind][0];\n",
       "        var tooltip = mpl.toolbar_items[toolbar_ind][1];\n",
       "        var image = mpl.toolbar_items[toolbar_ind][2];\n",
       "        var method_name = mpl.toolbar_items[toolbar_ind][3];\n",
       "\n",
       "        if (!name) {\n",
       "            // put a spacer in here.\n",
       "            continue;\n",
       "        }\n",
       "        var button = $('<button/>');\n",
       "        button.addClass('ui-button ui-widget ui-state-default ui-corner-all ' +\n",
       "                        'ui-button-icon-only');\n",
       "        button.attr('role', 'button');\n",
       "        button.attr('aria-disabled', 'false');\n",
       "        button.click(method_name, toolbar_event);\n",
       "        button.mouseover(tooltip, toolbar_mouse_event);\n",
       "\n",
       "        var icon_img = $('<span/>');\n",
       "        icon_img.addClass('ui-button-icon-primary ui-icon');\n",
       "        icon_img.addClass(image);\n",
       "        icon_img.addClass('ui-corner-all');\n",
       "\n",
       "        var tooltip_span = $('<span/>');\n",
       "        tooltip_span.addClass('ui-button-text');\n",
       "        tooltip_span.html(tooltip);\n",
       "\n",
       "        button.append(icon_img);\n",
       "        button.append(tooltip_span);\n",
       "\n",
       "        nav_element.append(button);\n",
       "    }\n",
       "\n",
       "    var fmt_picker_span = $('<span/>');\n",
       "\n",
       "    var fmt_picker = $('<select/>');\n",
       "    fmt_picker.addClass('mpl-toolbar-option ui-widget ui-widget-content');\n",
       "    fmt_picker_span.append(fmt_picker);\n",
       "    nav_element.append(fmt_picker_span);\n",
       "    this.format_dropdown = fmt_picker[0];\n",
       "\n",
       "    for (var ind in mpl.extensions) {\n",
       "        var fmt = mpl.extensions[ind];\n",
       "        var option = $(\n",
       "            '<option/>', {selected: fmt === mpl.default_extension}).html(fmt);\n",
       "        fmt_picker.append(option)\n",
       "    }\n",
       "\n",
       "    // Add hover states to the ui-buttons\n",
       "    $( \".ui-button\" ).hover(\n",
       "        function() { $(this).addClass(\"ui-state-hover\");},\n",
       "        function() { $(this).removeClass(\"ui-state-hover\");}\n",
       "    );\n",
       "\n",
       "    var status_bar = $('<span class=\"mpl-message\"/>');\n",
       "    nav_element.append(status_bar);\n",
       "    this.message = status_bar[0];\n",
       "}\n",
       "\n",
       "mpl.figure.prototype.request_resize = function(x_pixels, y_pixels) {\n",
       "    // Request matplotlib to resize the figure. Matplotlib will then trigger a resize in the client,\n",
       "    // which will in turn request a refresh of the image.\n",
       "    this.send_message('resize', {'width': x_pixels, 'height': y_pixels});\n",
       "}\n",
       "\n",
       "mpl.figure.prototype.send_message = function(type, properties) {\n",
       "    properties['type'] = type;\n",
       "    properties['figure_id'] = this.id;\n",
       "    this.ws.send(JSON.stringify(properties));\n",
       "}\n",
       "\n",
       "mpl.figure.prototype.send_draw_message = function() {\n",
       "    if (!this.waiting) {\n",
       "        this.waiting = true;\n",
       "        this.ws.send(JSON.stringify({type: \"draw\", figure_id: this.id}));\n",
       "    }\n",
       "}\n",
       "\n",
       "\n",
       "mpl.figure.prototype.handle_save = function(fig, msg) {\n",
       "    var format_dropdown = fig.format_dropdown;\n",
       "    var format = format_dropdown.options[format_dropdown.selectedIndex].value;\n",
       "    fig.ondownload(fig, format);\n",
       "}\n",
       "\n",
       "\n",
       "mpl.figure.prototype.handle_resize = function(fig, msg) {\n",
       "    var size = msg['size'];\n",
       "    if (size[0] != fig.canvas.width || size[1] != fig.canvas.height) {\n",
       "        fig._resize_canvas(size[0], size[1]);\n",
       "        fig.send_message(\"refresh\", {});\n",
       "    };\n",
       "}\n",
       "\n",
       "mpl.figure.prototype.handle_rubberband = function(fig, msg) {\n",
       "    var x0 = msg['x0'] / mpl.ratio;\n",
       "    var y0 = (fig.canvas.height - msg['y0']) / mpl.ratio;\n",
       "    var x1 = msg['x1'] / mpl.ratio;\n",
       "    var y1 = (fig.canvas.height - msg['y1']) / mpl.ratio;\n",
       "    x0 = Math.floor(x0) + 0.5;\n",
       "    y0 = Math.floor(y0) + 0.5;\n",
       "    x1 = Math.floor(x1) + 0.5;\n",
       "    y1 = Math.floor(y1) + 0.5;\n",
       "    var min_x = Math.min(x0, x1);\n",
       "    var min_y = Math.min(y0, y1);\n",
       "    var width = Math.abs(x1 - x0);\n",
       "    var height = Math.abs(y1 - y0);\n",
       "\n",
       "    fig.rubberband_context.clearRect(\n",
       "        0, 0, fig.canvas.width, fig.canvas.height);\n",
       "\n",
       "    fig.rubberband_context.strokeRect(min_x, min_y, width, height);\n",
       "}\n",
       "\n",
       "mpl.figure.prototype.handle_figure_label = function(fig, msg) {\n",
       "    // Updates the figure title.\n",
       "    fig.header.textContent = msg['label'];\n",
       "}\n",
       "\n",
       "mpl.figure.prototype.handle_cursor = function(fig, msg) {\n",
       "    var cursor = msg['cursor'];\n",
       "    switch(cursor)\n",
       "    {\n",
       "    case 0:\n",
       "        cursor = 'pointer';\n",
       "        break;\n",
       "    case 1:\n",
       "        cursor = 'default';\n",
       "        break;\n",
       "    case 2:\n",
       "        cursor = 'crosshair';\n",
       "        break;\n",
       "    case 3:\n",
       "        cursor = 'move';\n",
       "        break;\n",
       "    }\n",
       "    fig.rubberband_canvas.style.cursor = cursor;\n",
       "}\n",
       "\n",
       "mpl.figure.prototype.handle_message = function(fig, msg) {\n",
       "    fig.message.textContent = msg['message'];\n",
       "}\n",
       "\n",
       "mpl.figure.prototype.handle_draw = function(fig, msg) {\n",
       "    // Request the server to send over a new figure.\n",
       "    fig.send_draw_message();\n",
       "}\n",
       "\n",
       "mpl.figure.prototype.handle_image_mode = function(fig, msg) {\n",
       "    fig.image_mode = msg['mode'];\n",
       "}\n",
       "\n",
       "mpl.figure.prototype.updated_canvas_event = function() {\n",
       "    // Called whenever the canvas gets updated.\n",
       "    this.send_message(\"ack\", {});\n",
       "}\n",
       "\n",
       "// A function to construct a web socket function for onmessage handling.\n",
       "// Called in the figure constructor.\n",
       "mpl.figure.prototype._make_on_message_function = function(fig) {\n",
       "    return function socket_on_message(evt) {\n",
       "        if (evt.data instanceof Blob) {\n",
       "            /* FIXME: We get \"Resource interpreted as Image but\n",
       "             * transferred with MIME type text/plain:\" errors on\n",
       "             * Chrome.  But how to set the MIME type?  It doesn't seem\n",
       "             * to be part of the websocket stream */\n",
       "            evt.data.type = \"image/png\";\n",
       "\n",
       "            /* Free the memory for the previous frames */\n",
       "            if (fig.imageObj.src) {\n",
       "                (window.URL || window.webkitURL).revokeObjectURL(\n",
       "                    fig.imageObj.src);\n",
       "            }\n",
       "\n",
       "            fig.imageObj.src = (window.URL || window.webkitURL).createObjectURL(\n",
       "                evt.data);\n",
       "            fig.updated_canvas_event();\n",
       "            fig.waiting = false;\n",
       "            return;\n",
       "        }\n",
       "        else if (typeof evt.data === 'string' && evt.data.slice(0, 21) == \"data:image/png;base64\") {\n",
       "            fig.imageObj.src = evt.data;\n",
       "            fig.updated_canvas_event();\n",
       "            fig.waiting = false;\n",
       "            return;\n",
       "        }\n",
       "\n",
       "        var msg = JSON.parse(evt.data);\n",
       "        var msg_type = msg['type'];\n",
       "\n",
       "        // Call the  \"handle_{type}\" callback, which takes\n",
       "        // the figure and JSON message as its only arguments.\n",
       "        try {\n",
       "            var callback = fig[\"handle_\" + msg_type];\n",
       "        } catch (e) {\n",
       "            console.log(\"No handler for the '\" + msg_type + \"' message type: \", msg);\n",
       "            return;\n",
       "        }\n",
       "\n",
       "        if (callback) {\n",
       "            try {\n",
       "                // console.log(\"Handling '\" + msg_type + \"' message: \", msg);\n",
       "                callback(fig, msg);\n",
       "            } catch (e) {\n",
       "                console.log(\"Exception inside the 'handler_\" + msg_type + \"' callback:\", e, e.stack, msg);\n",
       "            }\n",
       "        }\n",
       "    };\n",
       "}\n",
       "\n",
       "// from http://stackoverflow.com/questions/1114465/getting-mouse-location-in-canvas\n",
       "mpl.findpos = function(e) {\n",
       "    //this section is from http://www.quirksmode.org/js/events_properties.html\n",
       "    var targ;\n",
       "    if (!e)\n",
       "        e = window.event;\n",
       "    if (e.target)\n",
       "        targ = e.target;\n",
       "    else if (e.srcElement)\n",
       "        targ = e.srcElement;\n",
       "    if (targ.nodeType == 3) // defeat Safari bug\n",
       "        targ = targ.parentNode;\n",
       "\n",
       "    // jQuery normalizes the pageX and pageY\n",
       "    // pageX,Y are the mouse positions relative to the document\n",
       "    // offset() returns the position of the element relative to the document\n",
       "    var x = e.pageX - $(targ).offset().left;\n",
       "    var y = e.pageY - $(targ).offset().top;\n",
       "\n",
       "    return {\"x\": x, \"y\": y};\n",
       "};\n",
       "\n",
       "/*\n",
       " * return a copy of an object with only non-object keys\n",
       " * we need this to avoid circular references\n",
       " * http://stackoverflow.com/a/24161582/3208463\n",
       " */\n",
       "function simpleKeys (original) {\n",
       "  return Object.keys(original).reduce(function (obj, key) {\n",
       "    if (typeof original[key] !== 'object')\n",
       "        obj[key] = original[key]\n",
       "    return obj;\n",
       "  }, {});\n",
       "}\n",
       "\n",
       "mpl.figure.prototype.mouse_event = function(event, name) {\n",
       "    var canvas_pos = mpl.findpos(event)\n",
       "\n",
       "    if (name === 'button_press')\n",
       "    {\n",
       "        this.canvas.focus();\n",
       "        this.canvas_div.focus();\n",
       "    }\n",
       "\n",
       "    var x = canvas_pos.x * mpl.ratio;\n",
       "    var y = canvas_pos.y * mpl.ratio;\n",
       "\n",
       "    this.send_message(name, {x: x, y: y, button: event.button,\n",
       "                             step: event.step,\n",
       "                             guiEvent: simpleKeys(event)});\n",
       "\n",
       "    /* This prevents the web browser from automatically changing to\n",
       "     * the text insertion cursor when the button is pressed.  We want\n",
       "     * to control all of the cursor setting manually through the\n",
       "     * 'cursor' event from matplotlib */\n",
       "    event.preventDefault();\n",
       "    return false;\n",
       "}\n",
       "\n",
       "mpl.figure.prototype._key_event_extra = function(event, name) {\n",
       "    // Handle any extra behaviour associated with a key event\n",
       "}\n",
       "\n",
       "mpl.figure.prototype.key_event = function(event, name) {\n",
       "\n",
       "    // Prevent repeat events\n",
       "    if (name == 'key_press')\n",
       "    {\n",
       "        if (event.which === this._key)\n",
       "            return;\n",
       "        else\n",
       "            this._key = event.which;\n",
       "    }\n",
       "    if (name == 'key_release')\n",
       "        this._key = null;\n",
       "\n",
       "    var value = '';\n",
       "    if (event.ctrlKey && event.which != 17)\n",
       "        value += \"ctrl+\";\n",
       "    if (event.altKey && event.which != 18)\n",
       "        value += \"alt+\";\n",
       "    if (event.shiftKey && event.which != 16)\n",
       "        value += \"shift+\";\n",
       "\n",
       "    value += 'k';\n",
       "    value += event.which.toString();\n",
       "\n",
       "    this._key_event_extra(event, name);\n",
       "\n",
       "    this.send_message(name, {key: value,\n",
       "                             guiEvent: simpleKeys(event)});\n",
       "    return false;\n",
       "}\n",
       "\n",
       "mpl.figure.prototype.toolbar_button_onclick = function(name) {\n",
       "    if (name == 'download') {\n",
       "        this.handle_save(this, null);\n",
       "    } else {\n",
       "        this.send_message(\"toolbar_button\", {name: name});\n",
       "    }\n",
       "};\n",
       "\n",
       "mpl.figure.prototype.toolbar_button_onmouseover = function(tooltip) {\n",
       "    this.message.textContent = tooltip;\n",
       "};\n",
       "mpl.toolbar_items = [[\"Home\", \"Reset original view\", \"fa fa-home icon-home\", \"home\"], [\"Back\", \"Back to previous view\", \"fa fa-arrow-left icon-arrow-left\", \"back\"], [\"Forward\", \"Forward to next view\", \"fa fa-arrow-right icon-arrow-right\", \"forward\"], [\"\", \"\", \"\", \"\"], [\"Pan\", \"Pan axes with left mouse, zoom with right\", \"fa fa-arrows icon-move\", \"pan\"], [\"Zoom\", \"Zoom to rectangle\", \"fa fa-square-o icon-check-empty\", \"zoom\"], [\"\", \"\", \"\", \"\"], [\"Download\", \"Download plot\", \"fa fa-floppy-o icon-save\", \"download\"]];\n",
       "\n",
       "mpl.extensions = [\"eps\", \"jpeg\", \"pdf\", \"png\", \"ps\", \"raw\", \"svg\", \"tif\"];\n",
       "\n",
       "mpl.default_extension = \"png\";var comm_websocket_adapter = function(comm) {\n",
       "    // Create a \"websocket\"-like object which calls the given IPython comm\n",
       "    // object with the appropriate methods. Currently this is a non binary\n",
       "    // socket, so there is still some room for performance tuning.\n",
       "    var ws = {};\n",
       "\n",
       "    ws.close = function() {\n",
       "        comm.close()\n",
       "    };\n",
       "    ws.send = function(m) {\n",
       "        //console.log('sending', m);\n",
       "        comm.send(m);\n",
       "    };\n",
       "    // Register the callback with on_msg.\n",
       "    comm.on_msg(function(msg) {\n",
       "        //console.log('receiving', msg['content']['data'], msg);\n",
       "        // Pass the mpl event to the overridden (by mpl) onmessage function.\n",
       "        ws.onmessage(msg['content']['data'])\n",
       "    });\n",
       "    return ws;\n",
       "}\n",
       "\n",
       "mpl.mpl_figure_comm = function(comm, msg) {\n",
       "    // This is the function which gets called when the mpl process\n",
       "    // starts-up an IPython Comm through the \"matplotlib\" channel.\n",
       "\n",
       "    var id = msg.content.data.id;\n",
       "    // Get hold of the div created by the display call when the Comm\n",
       "    // socket was opened in Python.\n",
       "    var element = $(\"#\" + id);\n",
       "    var ws_proxy = comm_websocket_adapter(comm)\n",
       "\n",
       "    function ondownload(figure, format) {\n",
       "        window.open(figure.imageObj.src);\n",
       "    }\n",
       "\n",
       "    var fig = new mpl.figure(id, ws_proxy,\n",
       "                           ondownload,\n",
       "                           element.get(0));\n",
       "\n",
       "    // Call onopen now - mpl needs it, as it is assuming we've passed it a real\n",
       "    // web socket which is closed, not our websocket->open comm proxy.\n",
       "    ws_proxy.onopen();\n",
       "\n",
       "    fig.parent_element = element.get(0);\n",
       "    fig.cell_info = mpl.find_output_cell(\"<div id='\" + id + \"'></div>\");\n",
       "    if (!fig.cell_info) {\n",
       "        console.error(\"Failed to find cell for figure\", id, fig);\n",
       "        return;\n",
       "    }\n",
       "\n",
       "    var output_index = fig.cell_info[2]\n",
       "    var cell = fig.cell_info[0];\n",
       "\n",
       "};\n",
       "\n",
       "mpl.figure.prototype.handle_close = function(fig, msg) {\n",
       "    var width = fig.canvas.width/mpl.ratio\n",
       "    fig.root.unbind('remove')\n",
       "\n",
       "    // Update the output cell to use the data from the current canvas.\n",
       "    fig.push_to_output();\n",
       "    var dataURL = fig.canvas.toDataURL();\n",
       "    // Re-enable the keyboard manager in IPython - without this line, in FF,\n",
       "    // the notebook keyboard shortcuts fail.\n",
       "    IPython.keyboard_manager.enable()\n",
       "    $(fig.parent_element).html('<img src=\"' + dataURL + '\" width=\"' + width + '\">');\n",
       "    fig.close_ws(fig, msg);\n",
       "}\n",
       "\n",
       "mpl.figure.prototype.close_ws = function(fig, msg){\n",
       "    fig.send_message('closing', msg);\n",
       "    // fig.ws.close()\n",
       "}\n",
       "\n",
       "mpl.figure.prototype.push_to_output = function(remove_interactive) {\n",
       "    // Turn the data on the canvas into data in the output cell.\n",
       "    var width = this.canvas.width/mpl.ratio\n",
       "    var dataURL = this.canvas.toDataURL();\n",
       "    this.cell_info[1]['text/html'] = '<img src=\"' + dataURL + '\" width=\"' + width + '\">';\n",
       "}\n",
       "\n",
       "mpl.figure.prototype.updated_canvas_event = function() {\n",
       "    // Tell IPython that the notebook contents must change.\n",
       "    IPython.notebook.set_dirty(true);\n",
       "    this.send_message(\"ack\", {});\n",
       "    var fig = this;\n",
       "    // Wait a second, then push the new image to the DOM so\n",
       "    // that it is saved nicely (might be nice to debounce this).\n",
       "    setTimeout(function () { fig.push_to_output() }, 1000);\n",
       "}\n",
       "\n",
       "mpl.figure.prototype._init_toolbar = function() {\n",
       "    var fig = this;\n",
       "\n",
       "    var nav_element = $('<div/>')\n",
       "    nav_element.attr('style', 'width: 100%');\n",
       "    this.root.append(nav_element);\n",
       "\n",
       "    // Define a callback function for later on.\n",
       "    function toolbar_event(event) {\n",
       "        return fig.toolbar_button_onclick(event['data']);\n",
       "    }\n",
       "    function toolbar_mouse_event(event) {\n",
       "        return fig.toolbar_button_onmouseover(event['data']);\n",
       "    }\n",
       "\n",
       "    for(var toolbar_ind in mpl.toolbar_items){\n",
       "        var name = mpl.toolbar_items[toolbar_ind][0];\n",
       "        var tooltip = mpl.toolbar_items[toolbar_ind][1];\n",
       "        var image = mpl.toolbar_items[toolbar_ind][2];\n",
       "        var method_name = mpl.toolbar_items[toolbar_ind][3];\n",
       "\n",
       "        if (!name) { continue; };\n",
       "\n",
       "        var button = $('<button class=\"btn btn-default\" href=\"#\" title=\"' + name + '\"><i class=\"fa ' + image + ' fa-lg\"></i></button>');\n",
       "        button.click(method_name, toolbar_event);\n",
       "        button.mouseover(tooltip, toolbar_mouse_event);\n",
       "        nav_element.append(button);\n",
       "    }\n",
       "\n",
       "    // Add the status bar.\n",
       "    var status_bar = $('<span class=\"mpl-message\" style=\"text-align:right; float: right;\"/>');\n",
       "    nav_element.append(status_bar);\n",
       "    this.message = status_bar[0];\n",
       "\n",
       "    // Add the close button to the window.\n",
       "    var buttongrp = $('<div class=\"btn-group inline pull-right\"></div>');\n",
       "    var button = $('<button class=\"btn btn-mini btn-primary\" href=\"#\" title=\"Stop Interaction\"><i class=\"fa fa-power-off icon-remove icon-large\"></i></button>');\n",
       "    button.click(function (evt) { fig.handle_close(fig, {}); } );\n",
       "    button.mouseover('Stop Interaction', toolbar_mouse_event);\n",
       "    buttongrp.append(button);\n",
       "    var titlebar = this.root.find($('.ui-dialog-titlebar'));\n",
       "    titlebar.prepend(buttongrp);\n",
       "}\n",
       "\n",
       "mpl.figure.prototype._root_extra_style = function(el){\n",
       "    var fig = this\n",
       "    el.on(\"remove\", function(){\n",
       "\tfig.close_ws(fig, {});\n",
       "    });\n",
       "}\n",
       "\n",
       "mpl.figure.prototype._canvas_extra_style = function(el){\n",
       "    // this is important to make the div 'focusable\n",
       "    el.attr('tabindex', 0)\n",
       "    // reach out to IPython and tell the keyboard manager to turn it's self\n",
       "    // off when our div gets focus\n",
       "\n",
       "    // location in version 3\n",
       "    if (IPython.notebook.keyboard_manager) {\n",
       "        IPython.notebook.keyboard_manager.register_events(el);\n",
       "    }\n",
       "    else {\n",
       "        // location in version 2\n",
       "        IPython.keyboard_manager.register_events(el);\n",
       "    }\n",
       "\n",
       "}\n",
       "\n",
       "mpl.figure.prototype._key_event_extra = function(event, name) {\n",
       "    var manager = IPython.notebook.keyboard_manager;\n",
       "    if (!manager)\n",
       "        manager = IPython.keyboard_manager;\n",
       "\n",
       "    // Check for shift+enter\n",
       "    if (event.shiftKey && event.which == 13) {\n",
       "        this.canvas_div.blur();\n",
       "        event.shiftKey = false;\n",
       "        // Send a \"J\" for go to next cell\n",
       "        event.which = 74;\n",
       "        event.keyCode = 74;\n",
       "        manager.command_mode();\n",
       "        manager.handle_keydown(event);\n",
       "    }\n",
       "}\n",
       "\n",
       "mpl.figure.prototype.handle_save = function(fig, msg) {\n",
       "    fig.ondownload(fig, null);\n",
       "}\n",
       "\n",
       "\n",
       "mpl.find_output_cell = function(html_output) {\n",
       "    // Return the cell and output element which can be found *uniquely* in the notebook.\n",
       "    // Note - this is a bit hacky, but it is done because the \"notebook_saving.Notebook\"\n",
       "    // IPython event is triggered only after the cells have been serialised, which for\n",
       "    // our purposes (turning an active figure into a static one), is too late.\n",
       "    var cells = IPython.notebook.get_cells();\n",
       "    var ncells = cells.length;\n",
       "    for (var i=0; i<ncells; i++) {\n",
       "        var cell = cells[i];\n",
       "        if (cell.cell_type === 'code'){\n",
       "            for (var j=0; j<cell.output_area.outputs.length; j++) {\n",
       "                var data = cell.output_area.outputs[j];\n",
       "                if (data.data) {\n",
       "                    // IPython >= 3 moved mimebundle to data attribute of output\n",
       "                    data = data.data;\n",
       "                }\n",
       "                if (data['text/html'] == html_output) {\n",
       "                    return [cell, data, j];\n",
       "                }\n",
       "            }\n",
       "        }\n",
       "    }\n",
       "}\n",
       "\n",
       "// Register the function which deals with the matplotlib target/channel.\n",
       "// The kernel may be null if the page has been refreshed.\n",
       "if (IPython.notebook.kernel != null) {\n",
       "    IPython.notebook.kernel.comm_manager.register_target('matplotlib', mpl.mpl_figure_comm);\n",
       "}\n"
      ],
      "text/plain": [
       "<IPython.core.display.Javascript object>"
      ]
     },
     "metadata": {},
     "output_type": "display_data"
    },
    {
     "data": {
      "text/html": [
       "<img src=\"data:image/png;base64,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\" width=\"1199.9999821186068\">"
      ],
      "text/plain": [
       "<IPython.core.display.HTML object>"
      ]
     },
     "metadata": {},
     "output_type": "display_data"
    }
   ],
   "source": [
    "#generate data\n",
    "X, y = generate_data() # generate data\n",
    "\n",
    "\n",
    "# learning rate for Gradient Descent\n",
    "lr = 0.03\n",
    "\n",
    "# Number of epochs\n",
    "# one epoch - one full pass through the dataset\n",
    "M = 100000\n",
    "\n",
    "# keep track of the losses\n",
    "losses = np.zeros(M)\n",
    "t0 = time.time()\n",
    "\n",
    "# initialize a neural network with one hidden layer \n",
    "# Try varying the depth and width of the neural networks to see the effect\n",
    "\n",
    "W = initweights([2, 200, 1])\n",
    "\n",
    "# Start training\n",
    "for i in range(M):\n",
    "    \n",
    "    # Do a forward pass\n",
    "    A, Z = forward_pass(W, X)\n",
    "    \n",
    "    # Calculate the loss\n",
    "    losses[i] = MSE(Z[-1].flatten(), y)\n",
    "    \n",
    "    # Calculate the loss using backprop\n",
    "    gradients = backprop(W, A, Z, y)\n",
    "    \n",
    "    # Update he parameters\n",
    "    for j in range(len(W)):\n",
    "        W[j] -= lr * gradients[j]\n",
    "t1 = time.time()\n",
    "print('Elapsed time: %.2fs' % (t1-t0))\n",
    "plot_results(X[:, 0], y, Z, losses)"
   ]
  },
  {
   "cell_type": "code",
   "execution_count": null,
   "metadata": {},
   "outputs": [],
   "source": []
  }
 ],
 "metadata": {
  "kernelspec": {
   "display_name": "Python 3",
   "language": "python",
   "name": "python3"
  },
  "language_info": {
   "codemirror_mode": {
    "name": "ipython",
    "version": 3
   },
   "file_extension": ".py",
   "mimetype": "text/x-python",
   "name": "python",
   "nbconvert_exporter": "python",
   "pygments_lexer": "ipython3",
   "version": "3.6.8"
  }
 },
 "nbformat": 4,
 "nbformat_minor": 2
}
